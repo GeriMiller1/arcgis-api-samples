{
 "cells": [
  {
   "cell_type": "code",
   "execution_count": null,
   "metadata": {
    "collapsed": true
   },
   "outputs": [],
   "source": [
    "from arcgis.gis import GIS\n",
    "from getpass import getpass"
   ]
  },
  {
   "cell_type": "code",
   "execution_count": null,
   "metadata": {
    "collapsed": false
   },
   "outputs": [],
   "source": [
    "gis = GIS('https://localgovne.maps.arcgis.com', 'patrick.hammons.tugis', getpass())"
   ]
  },
  {
   "cell_type": "code",
   "execution_count": null,
   "metadata": {
    "collapsed": false
   },
   "outputs": [],
   "source": [
    "users = gis.users.search()\n",
    "seats = input(\"How many users do you need reset?: \")\n",
    "email = input(\"What is your email?: \")\n",
    "password = input(\"What default password would you like to give the new users?: \")\n",
    "confirm = input(\"This script will delete settings and content for \" + seats + \" users. Are you sure you want to proceed (Y/N)?: \")"
   ]
  },
  {
   "cell_type": "code",
   "execution_count": null,
   "metadata": {
    "collapsed": false
   },
   "outputs": [],
   "source": [
    "if confirm.lower() == \"y\":\n",
    "    for user in users:\n",
    "        for n in range(int(seats) + 1):\n",
    "            if user.username == (\"workuser\" + str(n).zfill(2)):\n",
    "                items = user.items()\n",
    "                folders = user.folders\n",
    "                for item in items:\n",
    "                    print(\"Deleting \" + str(item))\n",
    "                    item.delete()\n",
    "                for folder in folders:\n",
    "                    folder_items = user.items(folder=folder)\n",
    "                    for folder_item in folder_items:\n",
    "                        print(folder_item)\n",
    "                        print(\"Removing delete protection\")\n",
    "                        folder_item.protect(enable=False)\n",
    "                        print(\"Deleting \", folder_item)\n",
    "                        folder_item.delete()\n",
    "\n",
    "                print(\"Deleting \" + user.username)\n",
    "                user.delete()\n",
    "                print(\"Deleted workuser\" + str(n).zfill(2) + \"!\")\n",
    "\n",
    "                gis.users.create(username=\"workuser\" + str(n).zfill(2),\n",
    "                                password=password,\n",
    "                                email=email,\n",
    "                                firstname =\"Student\" + str(n).zfill(2),\n",
    "                                lastname=\"Workshop\",\n",
    "                                role=\"org_publisher\",)\n",
    "                print(\"Re-created \" + user.username + \"!\")\n",
    "else:\n",
    "    print(\"Ok, I won't reset these users then!\")"
   ]
  },
  {
   "cell_type": "raw",
   "metadata": {
    "collapsed": true
   },
   "source": []
  }
 ],
 "metadata": {
  "anaconda-cloud": {},
  "kernelspec": {
   "display_name": "Python [conda root]",
   "language": "python",
   "name": "conda-root-py"
  },
  "language_info": {
   "codemirror_mode": {
    "name": "ipython",
    "version": 3
   },
   "file_extension": ".py",
   "mimetype": "text/x-python",
   "name": "python",
   "nbconvert_exporter": "python",
   "pygments_lexer": "ipython3",
   "version": "3.5.2"
  }
 },
 "nbformat": 4,
 "nbformat_minor": 1
}
