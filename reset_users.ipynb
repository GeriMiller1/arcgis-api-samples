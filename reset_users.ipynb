{
 "cells": [
  {
   "cell_type": "markdown",
   "metadata": {},
   "source": [
    "## Reset Users\n",
    "This script takes a set of input, deletes a defined amount of users, and recreates them with defined defaults. A good use case is when you have a bunch of users in your ArcGIS Online organization that you'd like to periodically nuke, particularly if they follow a predefined structure (e.g. workuser01, workuser02, workuser03)"
   ]
  },
  {
   "cell_type": "code",
   "execution_count": 1,
   "metadata": {
    "collapsed": true
   },
   "outputs": [],
   "source": [
    "from arcgis.gis import GIS\n",
    "from getpass import getpass"
   ]
  },
  {
   "cell_type": "code",
   "execution_count": 2,
   "metadata": {
    "collapsed": false
   },
   "outputs": [
    {
     "name": "stdout",
     "output_type": "stream",
     "text": [
      "········\n"
     ]
    }
   ],
   "source": [
    "gis = GIS('https://localgovne.maps.arcgis.com', 'patrick.hammons.tugis', getpass())"
   ]
  },
  {
   "cell_type": "markdown",
   "metadata": {},
   "source": [
    "### Search for all users in the org\n",
    "First, let's populate the users variable with all the users in the org"
   ]
  },
  {
   "cell_type": "code",
   "execution_count": 3,
   "metadata": {
    "collapsed": false
   },
   "outputs": [
    {
     "data": {
      "text/plain": [
       "[<User username:adam.ziegler.workshop>,\n",
       " <User username:alex.brown.localgovne>,\n",
       " <User username:krithica.kantharaj.tugis>,\n",
       " <User username:mark.scott.localgovne>,\n",
       " <User username:mark.scott.tugis>,\n",
       " <User username:mscott_tugis>,\n",
       " <User username:patrick.hammons.tugis>,\n",
       " <User username:rachel.weeden.tugis>,\n",
       " <User username:tom.schwartzman.localgovne>,\n",
       " <User username:vtworkshop01>,\n",
       " <User username:vtworkshop02>,\n",
       " <User username:vtworkshop03>,\n",
       " <User username:vtworkshop04>,\n",
       " <User username:vtworkshop05>,\n",
       " <User username:vtworkshop06>,\n",
       " <User username:vtworkshop07>,\n",
       " <User username:vtworkshop08>,\n",
       " <User username:vtworkshop09>,\n",
       " <User username:vtworkshop10>,\n",
       " <User username:vtworkshop11>,\n",
       " <User username:vtworkshop12>,\n",
       " <User username:vtworkshop13>,\n",
       " <User username:vtworkshop14>,\n",
       " <User username:vtworkshop15>,\n",
       " <User username:vtworkshop16>,\n",
       " <User username:workuser01>,\n",
       " <User username:workuser02>,\n",
       " <User username:workuser03>,\n",
       " <User username:workuser04>,\n",
       " <User username:workuser05>,\n",
       " <User username:workuser06>,\n",
       " <User username:workuser07>,\n",
       " <User username:workuser08>,\n",
       " <User username:workuser09>,\n",
       " <User username:workuser10>,\n",
       " <User username:workuser11>,\n",
       " <User username:workuser12>,\n",
       " <User username:workuser13>,\n",
       " <User username:workuser14>,\n",
       " <User username:workuser15>,\n",
       " <User username:workuser16>,\n",
       " <User username:workuser17>,\n",
       " <User username:workuser18>,\n",
       " <User username:workuser19>,\n",
       " <User username:workuser20>,\n",
       " <User username:workuser21>,\n",
       " <User username:workuser22>,\n",
       " <User username:workuser23>,\n",
       " <User username:workuser24>,\n",
       " <User username:workuser25>,\n",
       " <User username:workuser26>,\n",
       " <User username:workuser27>,\n",
       " <User username:workuser28>,\n",
       " <User username:workuser29>,\n",
       " <User username:workuser30>,\n",
       " <User username:workuser31>,\n",
       " <User username:workuser32>,\n",
       " <User username:workuser33>,\n",
       " <User username:workuser34>,\n",
       " <User username:workuser35>,\n",
       " <User username:workuser36>,\n",
       " <User username:workuser37>,\n",
       " <User username:workuser38>,\n",
       " <User username:workuser39>,\n",
       " <User username:workuser40>,\n",
       " <User username:workuser41>,\n",
       " <User username:workuser42>,\n",
       " <User username:workuser43>,\n",
       " <User username:workuser44>,\n",
       " <User username:workuser45>,\n",
       " <User username:workuser46>,\n",
       " <User username:workuser47>,\n",
       " <User username:workuser48>,\n",
       " <User username:workuser49>,\n",
       " <User username:workuser50>]"
      ]
     },
     "execution_count": 3,
     "metadata": {},
     "output_type": "execute_result"
    }
   ],
   "source": [
    "users = gis.users.search()\n",
    "users"
   ]
  },
  {
   "cell_type": "markdown",
   "metadata": {},
   "source": [
    "### Get some user input\n",
    "Now we need some information from the user. Once we're done asking for input, we confirm that the user would like to continue with the script. The next block deletes a lot of stuff, so be sure to answer correctly!"
   ]
  },
  {
   "cell_type": "code",
   "execution_count": 4,
   "metadata": {
    "collapsed": false
   },
   "outputs": [
    {
     "name": "stdout",
     "output_type": "stream",
     "text": [
      "How many users do you need reset?: 2\n",
      "What is your email?: phammons@esri.com\n",
      "What default password would you like to give the new users?: password123\n",
      "This script will delete settings and content for 2 users. Are you sure you want to proceed (Y/N)?: y\n"
     ]
    }
   ],
   "source": [
    "seats = input(\"How many users do you need reset?: \")\n",
    "email = input(\"What is your email?: \")\n",
    "password = input(\"What default password would you like to give the new users?: \")\n",
    "confirm = input(\"This script will delete settings and content for \" + seats + \" users. Are you sure you want to proceed (Y/N)?: \")"
   ]
  },
  {
   "cell_type": "markdown",
   "metadata": {},
   "source": [
    "### Delete + recreate users\n",
    "Now that we have more info, we can go about deleting the users and their associated content. Embrace the impermanence! "
   ]
  },
  {
   "cell_type": "code",
   "execution_count": 6,
   "metadata": {
    "collapsed": false
   },
   "outputs": [
    {
     "name": "stdout",
     "output_type": "stream",
     "text": [
      "Deleting workuser01\n",
      "Deleted workuser01!\n",
      "Re-created workuser01!\n",
      "Removing delete protection\n",
      "Deleting <Item title:\"DVRPC Bucks Open Data\" type:Hub Site Application owner:workuser02>\n",
      "Deleting workuser02\n",
      "Deleted workuser02!\n",
      "Re-created workuser02!\n"
     ]
    }
   ],
   "source": [
    "if confirm.lower() == \"y\":\n",
    "    for user in users:\n",
    "        for n in range(int(seats) + 1):\n",
    "            # Confirm that username exists, delete all content associated with the user\n",
    "            if user.username == (\"workuser\" + str(n).zfill(2)):\n",
    "                items = user.items()\n",
    "                folders = user.folders\n",
    "                for item in items:\n",
    "                    print(\"Removing delete protection\")\n",
    "                    item.protect(enable=False)\n",
    "                    print(\"Deleting \" + str(item))\n",
    "                    item.delete()\n",
    "                for folder in folders:\n",
    "                    folder_items = user.items(folder=folder)\n",
    "                    for folder_item in folder_items:\n",
    "                        print(folder_item)\n",
    "                        print(\"Removing delete protection\")\n",
    "                        folder_item.protect(enable=False)\n",
    "                        print(\"Deleting \", folder_item)\n",
    "                        folder_item.delete()\n",
    "                # Delete user\n",
    "                print(\"Deleting \" + user.username)\n",
    "                user.delete()\n",
    "                print(\"Deleted workuser\" + str(n).zfill(2) + \"!\")\n",
    "                \n",
    "                # Recreate user with user-provided info\n",
    "                gis.users.create(username=\"workuser\" + str(n).zfill(2),\n",
    "                                password=password,\n",
    "                                email=email,\n",
    "                                firstname =\"Student\" + str(n).zfill(2),\n",
    "                                lastname=\"Workshop\",\n",
    "                                role=\"org_publisher\",)\n",
    "                print(\"Re-created \" + user.username + \"!\")\n",
    "else:\n",
    "    print(\"Ok, I won't reset these users then!\")"
   ]
  },
  {
   "cell_type": "raw",
   "metadata": {
    "collapsed": true
   },
   "source": []
  }
 ],
 "metadata": {
  "anaconda-cloud": {},
  "kernelspec": {
   "display_name": "Python [conda root]",
   "language": "python",
   "name": "conda-root-py"
  },
  "language_info": {
   "codemirror_mode": {
    "name": "ipython",
    "version": 3
   },
   "file_extension": ".py",
   "mimetype": "text/x-python",
   "name": "python",
   "nbconvert_exporter": "python",
   "pygments_lexer": "ipython3",
   "version": "3.5.2"
  }
 },
 "nbformat": 4,
 "nbformat_minor": 1
}
