{
 "cells": [
  {
   "cell_type": "markdown",
   "metadata": {},
   "source": [
    "## Bulk service registration\n",
    "A relatively common use case is when users have existing content published as web services that they want to register in ArcGIS Online. The following workflow takes a service with multiple layers and registers them as individual items, using layer properties to populate metadata fields. "
   ]
  },
  {
   "cell_type": "code",
   "execution_count": 1,
   "metadata": {
    "collapsed": false
   },
   "outputs": [],
   "source": [
    "# import all the necessary modules\n",
    "from arcgis.gis import GIS\n",
    "from IPython.display import display\n",
    "import arcgis.features\n",
    "from getpass import getpass"
   ]
  },
  {
   "cell_type": "code",
   "execution_count": 2,
   "metadata": {
    "collapsed": false
   },
   "outputs": [
    {
     "name": "stdout",
     "output_type": "stream",
     "text": [
      "········\n"
     ]
    }
   ],
   "source": [
    "# login to an existing arcgis online organization\n",
    "gis = GIS(\"https://citygov.maps.arcgis.com/\", \"phammons_citygov\", getpass())"
   ]
  },
  {
   "cell_type": "markdown",
   "metadata": {},
   "source": [
    "### Point to an existing service\n",
    "First we need to grab the url to an existing service, point it to our gis variable, and store that as a feature layer collection in another variable. We can do that with the FeatureLayerCollection method:"
   ]
  },
  {
   "cell_type": "code",
   "execution_count": 3,
   "metadata": {
    "collapsed": false
   },
   "outputs": [],
   "source": [
    "url = 'https://maps.vcgi.vermont.gov/arcgis/rest/services/EGC_services/OPENDATA_VCGI_BOUNDARIES_SP_NOCACHE_v1/MapServer'\n",
    "boundaries = arcgis.features.FeatureLayerCollection(url, gis)"
   ]
  },
  {
   "cell_type": "markdown",
   "metadata": {},
   "source": [
    "### Create a folder\n",
    "Then we create a folder for these layers to live in:"
   ]
  },
  {
   "cell_type": "code",
   "execution_count": 4,
   "metadata": {
    "collapsed": false
   },
   "outputs": [
    {
     "data": {
      "text/plain": [
       "{'id': 'f38c8548802b4576b07d861f6fdb17b5',\n",
       " 'title': 'boundaries',\n",
       " 'username': 'phammons_citygov'}"
      ]
     },
     "execution_count": 4,
     "metadata": {},
     "output_type": "execute_result"
    }
   ],
   "source": [
    "gis.content.create_folder(folder = 'boundaries')"
   ]
  },
  {
   "cell_type": "markdown",
   "metadata": {},
   "source": [
    "### Register the layers\n",
    "Now that we've finished our preliminary stuff, we can get to the fun part -- registering layers! The following block of code iterates through each layer in the service, populates some metadata fields with service properties (title, description, url), and defines others manually (tags, type). Finally all of this info is used to create the layer and move it to the folder we created in the previous step:"
   ]
  },
  {
   "cell_type": "code",
   "execution_count": 5,
   "metadata": {
    "collapsed": false
   },
   "outputs": [],
   "source": [
    "for layer in boundaries.layers:\n",
    "    layer_properties = {\n",
    "        'title': layer.properties['name'],\n",
    "        'description': layer.properties['description'],\n",
    "        'tags': 'chittenden, boundaries, bulk service registration, python api',\n",
    "        'type': 'Feature Service',\n",
    "        'url': layer.url\n",
    "    }\n",
    "    create_item = gis.content.add(item_properties=layer_properties, data=layer.url)\n",
    "    create_item.move(folder= 'boundaries')"
   ]
  },
  {
   "cell_type": "markdown",
   "metadata": {},
   "source": [
    "Now those layers are available as individual items in the ```boundaries``` folder:"
   ]
  },
  {
   "cell_type": "code",
   "execution_count": 6,
   "metadata": {
    "collapsed": false
   },
   "outputs": [
    {
     "data": {
      "text/html": [
       "<div class=\"item_container\" style=\"height: auto; overflow: hidden; border: 1px solid #cfcfcf; border-radius: 2px; background: #f6fafa; line-height: 1.21429em; padding: 10px;\">\n",
       "                    <div class=\"item_left\" style=\"width: 210px; float: left;\">\n",
       "                       <a href='https://citygov.maps.arcgis.com//home/item.html?id=11d672aaa2704bc799762a2ce8286f6b' target='_blank'>\n",
       "                        <img src='http://static.arcgis.com/images/desktopapp.png' class=\"itemThumbnail\">\n",
       "                       </a>\n",
       "                    </div>\n",
       "\n",
       "                    <div class=\"item_right\"     style=\"float: none; width: auto; overflow: hidden;\">\n",
       "                        <a href='https://citygov.maps.arcgis.com//home/item.html?id=11d672aaa2704bc799762a2ce8286f6b' target='_blank'><b>VT NAD27 Orthophoto Boundaries - polygons</b>\n",
       "                        </a>\n",
       "                        <br/><img src='https://citygov.maps.arcgis.com//home/js/jsapi/esri/css/images/item_type_icons/featureshosted16.png' style=\"vertical-align:middle;\">Feature Layer Collection by phammons_citygov\n",
       "                        <br/>Last Modified: October 11, 2017\n",
       "                        <br/>0 comments, 0 views\n",
       "                    </div>\n",
       "                </div>\n",
       "                "
      ],
      "text/plain": [
       "<Item title:\"VT NAD27 Orthophoto Boundaries - polygons\" type:Feature Layer Collection owner:phammons_citygov>"
      ]
     },
     "metadata": {},
     "output_type": "display_data"
    },
    {
     "data": {
      "text/html": [
       "<div class=\"item_container\" style=\"height: auto; overflow: hidden; border: 1px solid #cfcfcf; border-radius: 2px; background: #f6fafa; line-height: 1.21429em; padding: 10px;\">\n",
       "                    <div class=\"item_left\" style=\"width: 210px; float: left;\">\n",
       "                       <a href='https://citygov.maps.arcgis.com//home/item.html?id=673132ff5c514055bf053893ca8ee570' target='_blank'>\n",
       "                        <img src='http://static.arcgis.com/images/desktopapp.png' class=\"itemThumbnail\">\n",
       "                       </a>\n",
       "                    </div>\n",
       "\n",
       "                    <div class=\"item_right\"     style=\"float: none; width: auto; overflow: hidden;\">\n",
       "                        <a href='https://citygov.maps.arcgis.com//home/item.html?id=673132ff5c514055bf053893ca8ee570' target='_blank'><b>VT NAD83 Orthophoto Boundaries - polygons</b>\n",
       "                        </a>\n",
       "                        <br/><img src='https://citygov.maps.arcgis.com//home/js/jsapi/esri/css/images/item_type_icons/featureshosted16.png' style=\"vertical-align:middle;\">Feature Layer Collection by phammons_citygov\n",
       "                        <br/>Last Modified: October 11, 2017\n",
       "                        <br/>0 comments, 0 views\n",
       "                    </div>\n",
       "                </div>\n",
       "                "
      ],
      "text/plain": [
       "<Item title:\"VT NAD83 Orthophoto Boundaries - polygons\" type:Feature Layer Collection owner:phammons_citygov>"
      ]
     },
     "metadata": {},
     "output_type": "display_data"
    },
    {
     "data": {
      "text/html": [
       "<div class=\"item_container\" style=\"height: auto; overflow: hidden; border: 1px solid #cfcfcf; border-radius: 2px; background: #f6fafa; line-height: 1.21429em; padding: 10px;\">\n",
       "                    <div class=\"item_left\" style=\"width: 210px; float: left;\">\n",
       "                       <a href='https://citygov.maps.arcgis.com//home/item.html?id=778a9a103aa9401cba64293a71f68bd1' target='_blank'>\n",
       "                        <img src='http://static.arcgis.com/images/desktopapp.png' class=\"itemThumbnail\">\n",
       "                       </a>\n",
       "                    </div>\n",
       "\n",
       "                    <div class=\"item_right\"     style=\"float: none; width: auto; overflow: hidden;\">\n",
       "                        <a href='https://citygov.maps.arcgis.com//home/item.html?id=778a9a103aa9401cba64293a71f68bd1' target='_blank'><b>VT House Districts 2002 - polygons</b>\n",
       "                        </a>\n",
       "                        <br/><img src='https://citygov.maps.arcgis.com//home/js/jsapi/esri/css/images/item_type_icons/featureshosted16.png' style=\"vertical-align:middle;\">Feature Layer Collection by phammons_citygov\n",
       "                        <br/>Last Modified: October 11, 2017\n",
       "                        <br/>0 comments, 0 views\n",
       "                    </div>\n",
       "                </div>\n",
       "                "
      ],
      "text/plain": [
       "<Item title:\"VT House Districts 2002 - polygons\" type:Feature Layer Collection owner:phammons_citygov>"
      ]
     },
     "metadata": {},
     "output_type": "display_data"
    },
    {
     "data": {
      "text/html": [
       "<div class=\"item_container\" style=\"height: auto; overflow: hidden; border: 1px solid #cfcfcf; border-radius: 2px; background: #f6fafa; line-height: 1.21429em; padding: 10px;\">\n",
       "                    <div class=\"item_left\" style=\"width: 210px; float: left;\">\n",
       "                       <a href='https://citygov.maps.arcgis.com//home/item.html?id=3e9ddc50df384607a6d150517e5f95c1' target='_blank'>\n",
       "                        <img src='http://static.arcgis.com/images/desktopapp.png' class=\"itemThumbnail\">\n",
       "                       </a>\n",
       "                    </div>\n",
       "\n",
       "                    <div class=\"item_right\"     style=\"float: none; width: auto; overflow: hidden;\">\n",
       "                        <a href='https://citygov.maps.arcgis.com//home/item.html?id=3e9ddc50df384607a6d150517e5f95c1' target='_blank'><b>VT Boundaries - county polygons</b>\n",
       "                        </a>\n",
       "                        <br/><img src='https://citygov.maps.arcgis.com//home/js/jsapi/esri/css/images/item_type_icons/featureshosted16.png' style=\"vertical-align:middle;\">Feature Layer Collection by phammons_citygov\n",
       "                        <br/>Last Modified: October 11, 2017\n",
       "                        <br/>0 comments, 0 views\n",
       "                    </div>\n",
       "                </div>\n",
       "                "
      ],
      "text/plain": [
       "<Item title:\"VT Boundaries - county polygons\" type:Feature Layer Collection owner:phammons_citygov>"
      ]
     },
     "metadata": {},
     "output_type": "display_data"
    },
    {
     "data": {
      "text/html": [
       "<div class=\"item_container\" style=\"height: auto; overflow: hidden; border: 1px solid #cfcfcf; border-radius: 2px; background: #f6fafa; line-height: 1.21429em; padding: 10px;\">\n",
       "                    <div class=\"item_left\" style=\"width: 210px; float: left;\">\n",
       "                       <a href='https://citygov.maps.arcgis.com//home/item.html?id=acde7722f8f34194aafaa110f9893b51' target='_blank'>\n",
       "                        <img src='http://static.arcgis.com/images/desktopapp.png' class=\"itemThumbnail\">\n",
       "                       </a>\n",
       "                    </div>\n",
       "\n",
       "                    <div class=\"item_right\"     style=\"float: none; width: auto; overflow: hidden;\">\n",
       "                        <a href='https://citygov.maps.arcgis.com//home/item.html?id=acde7722f8f34194aafaa110f9893b51' target='_blank'><b>VT Boundaries - all lines</b>\n",
       "                        </a>\n",
       "                        <br/><img src='https://citygov.maps.arcgis.com//home/js/jsapi/esri/css/images/item_type_icons/featureshosted16.png' style=\"vertical-align:middle;\">Feature Layer Collection by phammons_citygov\n",
       "                        <br/>Last Modified: October 11, 2017\n",
       "                        <br/>0 comments, 0 views\n",
       "                    </div>\n",
       "                </div>\n",
       "                "
      ],
      "text/plain": [
       "<Item title:\"VT Boundaries - all lines\" type:Feature Layer Collection owner:phammons_citygov>"
      ]
     },
     "metadata": {},
     "output_type": "display_data"
    },
    {
     "data": {
      "text/html": [
       "<div class=\"item_container\" style=\"height: auto; overflow: hidden; border: 1px solid #cfcfcf; border-radius: 2px; background: #f6fafa; line-height: 1.21429em; padding: 10px;\">\n",
       "                    <div class=\"item_left\" style=\"width: 210px; float: left;\">\n",
       "                       <a href='https://citygov.maps.arcgis.com//home/item.html?id=3fa20d3112804ac6a4dc832e748e78c2' target='_blank'>\n",
       "                        <img src='http://static.arcgis.com/images/desktopapp.png' class=\"itemThumbnail\">\n",
       "                       </a>\n",
       "                    </div>\n",
       "\n",
       "                    <div class=\"item_right\"     style=\"float: none; width: auto; overflow: hidden;\">\n",
       "                        <a href='https://citygov.maps.arcgis.com//home/item.html?id=3fa20d3112804ac6a4dc832e748e78c2' target='_blank'><b>VT Senate Districts 1992 - lines</b>\n",
       "                        </a>\n",
       "                        <br/><img src='https://citygov.maps.arcgis.com//home/js/jsapi/esri/css/images/item_type_icons/featureshosted16.png' style=\"vertical-align:middle;\">Feature Layer Collection by phammons_citygov\n",
       "                        <br/>Last Modified: October 11, 2017\n",
       "                        <br/>0 comments, 0 views\n",
       "                    </div>\n",
       "                </div>\n",
       "                "
      ],
      "text/plain": [
       "<Item title:\"VT Senate Districts 1992 - lines\" type:Feature Layer Collection owner:phammons_citygov>"
      ]
     },
     "metadata": {},
     "output_type": "display_data"
    },
    {
     "data": {
      "text/html": [
       "<div class=\"item_container\" style=\"height: auto; overflow: hidden; border: 1px solid #cfcfcf; border-radius: 2px; background: #f6fafa; line-height: 1.21429em; padding: 10px;\">\n",
       "                    <div class=\"item_left\" style=\"width: 210px; float: left;\">\n",
       "                       <a href='https://citygov.maps.arcgis.com//home/item.html?id=d6cc47f9ebab43c9a9390da0e43fa547' target='_blank'>\n",
       "                        <img src='http://static.arcgis.com/images/desktopapp.png' class=\"itemThumbnail\">\n",
       "                       </a>\n",
       "                    </div>\n",
       "\n",
       "                    <div class=\"item_right\"     style=\"float: none; width: auto; overflow: hidden;\">\n",
       "                        <a href='https://citygov.maps.arcgis.com//home/item.html?id=d6cc47f9ebab43c9a9390da0e43fa547' target='_blank'><b>VT School Districts - 2014</b>\n",
       "                        </a>\n",
       "                        <br/><img src='https://citygov.maps.arcgis.com//home/js/jsapi/esri/css/images/item_type_icons/featureshosted16.png' style=\"vertical-align:middle;\">Feature Layer Collection by phammons_citygov\n",
       "                        <br/>Last Modified: October 11, 2017\n",
       "                        <br/>0 comments, 0 views\n",
       "                    </div>\n",
       "                </div>\n",
       "                "
      ],
      "text/plain": [
       "<Item title:\"VT School Districts - 2014\" type:Feature Layer Collection owner:phammons_citygov>"
      ]
     },
     "metadata": {},
     "output_type": "display_data"
    },
    {
     "data": {
      "text/html": [
       "<div class=\"item_container\" style=\"height: auto; overflow: hidden; border: 1px solid #cfcfcf; border-radius: 2px; background: #f6fafa; line-height: 1.21429em; padding: 10px;\">\n",
       "                    <div class=\"item_left\" style=\"width: 210px; float: left;\">\n",
       "                       <a href='https://citygov.maps.arcgis.com//home/item.html?id=9956620efada4346bb51dbb75e0da041' target='_blank'>\n",
       "                        <img src='http://static.arcgis.com/images/desktopapp.png' class=\"itemThumbnail\">\n",
       "                       </a>\n",
       "                    </div>\n",
       "\n",
       "                    <div class=\"item_right\"     style=\"float: none; width: auto; overflow: hidden;\">\n",
       "                        <a href='https://citygov.maps.arcgis.com//home/item.html?id=9956620efada4346bb51dbb75e0da041' target='_blank'><b>VT NAD83 Orthophoto 3x3 Quadrant Boundaries - polygons</b>\n",
       "                        </a>\n",
       "                        <br/><img src='https://citygov.maps.arcgis.com//home/js/jsapi/esri/css/images/item_type_icons/featureshosted16.png' style=\"vertical-align:middle;\">Feature Layer Collection by phammons_citygov\n",
       "                        <br/>Last Modified: October 11, 2017\n",
       "                        <br/>0 comments, 0 views\n",
       "                    </div>\n",
       "                </div>\n",
       "                "
      ],
      "text/plain": [
       "<Item title:\"VT NAD83 Orthophoto 3x3 Quadrant Boundaries - polygons\" type:Feature Layer Collection owner:phammons_citygov>"
      ]
     },
     "metadata": {},
     "output_type": "display_data"
    },
    {
     "data": {
      "text/html": [
       "<div class=\"item_container\" style=\"height: auto; overflow: hidden; border: 1px solid #cfcfcf; border-radius: 2px; background: #f6fafa; line-height: 1.21429em; padding: 10px;\">\n",
       "                    <div class=\"item_left\" style=\"width: 210px; float: left;\">\n",
       "                       <a href='https://citygov.maps.arcgis.com//home/item.html?id=da2ae8780f10430eae5fa31d1d5f658a' target='_blank'>\n",
       "                        <img src='http://static.arcgis.com/images/desktopapp.png' class=\"itemThumbnail\">\n",
       "                       </a>\n",
       "                    </div>\n",
       "\n",
       "                    <div class=\"item_right\"     style=\"float: none; width: auto; overflow: hidden;\">\n",
       "                        <a href='https://citygov.maps.arcgis.com//home/item.html?id=da2ae8780f10430eae5fa31d1d5f658a' target='_blank'><b>VT Senate Districts 2012 - polygons</b>\n",
       "                        </a>\n",
       "                        <br/><img src='https://citygov.maps.arcgis.com//home/js/jsapi/esri/css/images/item_type_icons/featureshosted16.png' style=\"vertical-align:middle;\">Feature Layer Collection by phammons_citygov\n",
       "                        <br/>Last Modified: October 11, 2017\n",
       "                        <br/>0 comments, 0 views\n",
       "                    </div>\n",
       "                </div>\n",
       "                "
      ],
      "text/plain": [
       "<Item title:\"VT Senate Districts 2012 - polygons\" type:Feature Layer Collection owner:phammons_citygov>"
      ]
     },
     "metadata": {},
     "output_type": "display_data"
    },
    {
     "data": {
      "text/html": [
       "<div class=\"item_container\" style=\"height: auto; overflow: hidden; border: 1px solid #cfcfcf; border-radius: 2px; background: #f6fafa; line-height: 1.21429em; padding: 10px;\">\n",
       "                    <div class=\"item_left\" style=\"width: 210px; float: left;\">\n",
       "                       <a href='https://citygov.maps.arcgis.com//home/item.html?id=ba824720745842f18a3c38b900a0cac7' target='_blank'>\n",
       "                        <img src='http://static.arcgis.com/images/desktopapp.png' class=\"itemThumbnail\">\n",
       "                       </a>\n",
       "                    </div>\n",
       "\n",
       "                    <div class=\"item_right\"     style=\"float: none; width: auto; overflow: hidden;\">\n",
       "                        <a href='https://citygov.maps.arcgis.com//home/item.html?id=ba824720745842f18a3c38b900a0cac7' target='_blank'><b>VT Supervisory Unions - 2014</b>\n",
       "                        </a>\n",
       "                        <br/><img src='https://citygov.maps.arcgis.com//home/js/jsapi/esri/css/images/item_type_icons/featureshosted16.png' style=\"vertical-align:middle;\">Feature Layer Collection by phammons_citygov\n",
       "                        <br/>Last Modified: October 11, 2017\n",
       "                        <br/>0 comments, 0 views\n",
       "                    </div>\n",
       "                </div>\n",
       "                "
      ],
      "text/plain": [
       "<Item title:\"VT Supervisory Unions - 2014\" type:Feature Layer Collection owner:phammons_citygov>"
      ]
     },
     "metadata": {},
     "output_type": "display_data"
    }
   ],
   "source": [
    "boundaries = gis.content.search(query=\"tags:bulk service registration\")\n",
    "for layer in boundaries:\n",
    "    display(layer)"
   ]
  }
 ],
 "metadata": {
  "anaconda-cloud": {},
  "kernelspec": {
   "display_name": "Python [conda root]",
   "language": "python",
   "name": "conda-root-py"
  },
  "language_info": {
   "codemirror_mode": {
    "name": "ipython",
    "version": 3
   },
   "file_extension": ".py",
   "mimetype": "text/x-python",
   "name": "python",
   "nbconvert_exporter": "python",
   "pygments_lexer": "ipython3",
   "version": "3.5.2"
  }
 },
 "nbformat": 4,
 "nbformat_minor": 1
}
